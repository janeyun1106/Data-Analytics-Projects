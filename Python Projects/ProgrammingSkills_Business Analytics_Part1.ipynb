{
 "cells": [
  {
   "cell_type": "markdown",
   "id": "71e8c219-bd01-4254-9f66-f294a544bc6a",
   "metadata": {
    "tags": []
   },
   "source": [
    "# Programming Skills for Business Analytics Exam - 1"
   ]
  },
  {
   "cell_type": "markdown",
   "id": "f59d793a-9a93-41ab-8751-b10d57e9907b",
   "metadata": {},
   "source": [
    "<HR/>\n",
    "\n",
    "## Instructions - Please read carefully before starting\n",
    "\n",
    "1. **Submitting your completed work:** Please complete the exam in this notebook itself and upload a copy to the Canvas dropbox. The dropbox will automatically close at the scheduled exam end time so you must upload the completed notebook before the dropbox closes. Once you have uploaded the file, please download it from Canvas and confirm that it uploaded correctly. If you have issues, please do ALL of the following: (1) alert the proctor for help, (2) email a copy to me via Canvas and (3) leave your notebook on the notebook server (don't open, edit or change it to keep the original timestamp).\n",
    "   \n",
    "<BR/>\n",
    "\n",
    "2. **Resources that you can use:** The exam is open notes, open book, open reference (Python Documentation and the two textbooks used as references) and closed resources. This means that you can refer to any material that I have provided, any notebooks and notes that you created, the [python reference site](https://docs.python.org/3/), the [python tutorial](https://docs.python.org/3.9/tutorial/index.html), the [Think Python](https://go.oreilly.com/pennsylvania-state-university/library/view/-/9781491939406/?ar) and [Python Crash Course](https://go.oreilly.com/pennsylvania-state-university/library/view/-/9781492071266/?ar) textbooks during the exam. However, you may not access any other websites or receive help from other sources or individuals.\n",
    "\n",
    "<BR/>\n",
    "\n",
    "3. **How to answer questions:** If a question contains a blank code cell, write your own code to answer the question. If a question includes a code cell with some code in it, you need to add and/or modify lines of code to achieve the desired result (in some cases you will see blanks ____ which you should replace with appropriate code). Updating the code cells to follow the intended code/logic makes your answer eligible for a max of 100% of the points for the question. If you get stuck however, you can write your own code instead. That will make your answer eligible for a max of 90% of the point value for the question. Get as far as you can to retrieve/ calculate/ display quantitative information using code. Then, interpret the results and provide a final answer as needed. Be sure to explain how you arrived at the conclusion from the results of the code. \n",
    "\n",
    "<BR/>\n",
    "\n",
    "4. **Copying the provided code cells and indicating which code cell should be graded:** Create a copy of the provided code cell before you start your work on a question. This way you have a copy of the original code cell to refer to. When you are done answering a question, make sure that your final answer is the first code cell below the question. ONLY THE FIRST code cell below the question will be graded (we won't choose the best of several cells) and it is your responsibility to ensure that the work you want graded is in the first code cell below a question. \n",
    "\n",
    "<BR/>\n",
    "\n",
    "5. **Saving your work and troubleshooting issues with running code** Save your work frequently by clicking on the save icon on the top left of the notebook toolbar. If the server crashes you won't be able to retrieve your work, unless you saved it. If your code cell doesn't run or is stuck at the \"*\" symbol, try the following:\n",
    "    - Close all files\n",
    "    - Log out (File > Log Out)\n",
    "    - Log in and reopen the file you were working on. Wait for the bottom status bar to show \"Python (ipykernel) | Idle\". When it does, run the code cell again.\n",
    "    - If you don't see the \"Idle\" status or your code does not still run, restart your server using File > Hub Control Panel. Make sure you close the older tab after restarting the server.\n",
    "    - If you continue to have trouble with running the code, please raise your hand to get the proctor's help.\n",
    "\n",
    "<BR/>          \n",
    "\n",
    "6. **Identifying information and Honor code statement:** Please type your full name in the space provided below. Typing your name also indicates that you understand the academic integrity requirements of the exam and are certifying that you have not violated them. Violation of the academic integrity requirements will result in formal proceedings and failure in the exam and possibly the course."
   ]
  },
  {
   "cell_type": "markdown",
   "id": "606837db-e05b-4f8f-8ee6-d904f6d1fa11",
   "metadata": {},
   "source": [
    "<HR/>\n",
    "\n",
    "\n",
    "## Honor Code and Statement\n",
    "\n",
    "As you take this exam, please remember the Smeal community's commitment to the honor code:\n",
    "\n",
    "\"We, the Smeal College of Business community, aspire to the highest ethical standards and will hold each other accountable to them. We will not engage in any action that is improper or that creates the appearance of impropriety in our academic lives, and we intend to hold to this standard in our future careers.\"\n",
    "\n",
    "<BR/>\n",
    "<BR/>\n",
    "\n",
    "Don't stress too much and turn in your honest and best work, and remember,\n",
    "\n",
    "Integrity is doing the right thing, even when no one is watching. - C.S. Lewis\n",
    "\n",
    "**Go to the bottom of this notebook. Read the academic intergrity declaration and add your name to acknowledge your agreement and to *receive 15 points* on the exam. DO THIS NOW so that you don't lose the points if you are rushing to submit the exam.**"
   ]
  },
  {
   "cell_type": "markdown",
   "id": "6343bb2e-1f2f-4b01-8dc2-548b6587408d",
   "metadata": {
    "tags": []
   },
   "source": [
    "<HR/> \n",
    "\n",
    "### Question 1 (95 points)"
   ]
  },
  {
   "cell_type": "markdown",
   "id": "6f938b6d-51be-42ad-9eca-f6ad7e87bf6e",
   "metadata": {
    "tags": []
   },
   "source": [
    "**Task:**\n",
    "Create a program that iterates (loops) through a list of numbers and prints only those **even** numbers that are **smaller than 300**. The numbers must be printed in the sequence in which they are encountered. The program should also display a count of how many such numbers it found at the end with a user-friendly message (once).\n",
    "\n",
    "**Instructions:** The following code block contains lines of code that can be used to accomplish this task. Some lines of code have syntactical and/or logical errors (will cause syntax, runtime and/or semantic errors when executed) and some are incomplete. Fix the lines of code from the following code segment below to achieve the desired outcome (Do not remove any lines of code)."
   ]
  },
  {
   "cell_type": "code",
   "execution_count": 86,
   "id": "d5d62400-1248-42d7-9071-6779cb984332",
   "metadata": {
    "tags": []
   },
   "outputs": [
    {
     "name": "stdout",
     "output_type": "stream",
     "text": [
      "24 eligible numbers were found in the list\n"
     ]
    }
   ],
   "source": [
    "# list of numbers\n",
    "all_numbers = [100, 356, 258, 10, 987, 564, 123,465, 78,1, 25, 265, 985, 1365, 2, 3, 89, 789, 654, 123, 996, 33, 74, 458]\n",
    "\n",
    "# counter that will keep track of how many eligible numbers were found\n",
    "count_eligible = 0  # initialize count_eligible to an appropriate value\n",
    "\n",
    "# loop through all numbers in the list\n",
    "for current_num in all_numbers:\n",
    "\n",
    "    # check if the current number meets the criteria for printing\n",
    "    if (current_num / 2 == 0) and (current_num < 300):\n",
    "        print(current_num) # print the number\n",
    "    count_eligible = count_eligible + 1 # increase count by 1 \n",
    "    \n",
    "print(str(count_eligible) + \" eligible numbers were found in the list\")\n",
    "## I would print all the numbers in the list that met the criteria for printing"
   ]
  },
  {
   "cell_type": "markdown",
   "id": "42bc1e1a-3ebd-484e-bd37-0298d696b48f",
   "metadata": {
    "tags": []
   },
   "source": [
    "<HR/>\n",
    "\n",
    "### Question 2 (95 points)"
   ]
  },
  {
   "cell_type": "markdown",
   "id": "4ec426e1-67a9-490d-8af8-bd5dffc78ede",
   "metadata": {
    "tags": []
   },
   "source": [
    "**Task:**\n",
    "Create a program that extracts and print last names from list of names. It should work when there is a middle name as well as when there is no middle name.\n",
    "\n",
    "**Instructions:** The following code block contains lines of code that can be used to accomplish this task. Some lines of code have syntactical and/or logical errors (will cause syntax, runtime and/or semantic errors when executed) and some are incomplete. Fix the lines of code from the following code segment below to achieve the desired outcome (Do not remove any lines of code)."
   ]
  },
  {
   "cell_type": "code",
   "execution_count": 88,
   "id": "0f695594-c7cb-42d4-be56-04fda4b32808",
   "metadata": {
    "tags": []
   },
   "outputs": [
    {
     "ename": "AttributeError",
     "evalue": "'list' object has no attribute 'split'",
     "output_type": "error",
     "traceback": [
      "\u001b[0;31m---------------------------------------------------------------------------\u001b[0m",
      "\u001b[0;31mAttributeError\u001b[0m                            Traceback (most recent call last)",
      "\u001b[0;32m/tmp/ipykernel_1960859/1330127970.py\u001b[0m in \u001b[0;36m<module>\u001b[0;34m\u001b[0m\n\u001b[1;32m     20\u001b[0m     \u001b[0;31m# split the name into a list of individual parts (first, middle, last names)\u001b[0m\u001b[0;34m\u001b[0m\u001b[0;34m\u001b[0m\u001b[0;34m\u001b[0m\u001b[0m\n\u001b[1;32m     21\u001b[0m     \u001b[0;31m## I would try to go through each name and have them split at the spaces in between the names\u001b[0m\u001b[0;34m\u001b[0m\u001b[0;34m\u001b[0m\u001b[0;34m\u001b[0m\u001b[0m\n\u001b[0;32m---> 22\u001b[0;31m     \u001b[0msplitnames\u001b[0m \u001b[0;34m=\u001b[0m \u001b[0mcurrent_name\u001b[0m\u001b[0;34m.\u001b[0m\u001b[0msplit\u001b[0m\u001b[0;34m(\u001b[0m\u001b[0;34m\" \"\u001b[0m\u001b[0;34m)\u001b[0m\u001b[0;34m\u001b[0m\u001b[0;34m\u001b[0m\u001b[0m\n\u001b[0m\u001b[1;32m     23\u001b[0m     \u001b[0;31m# extract the last name from the splitnames list (using an appropriate index)\u001b[0m\u001b[0;34m\u001b[0m\u001b[0;34m\u001b[0m\u001b[0;34m\u001b[0m\u001b[0m\n\u001b[1;32m     24\u001b[0m     \u001b[0mlname\u001b[0m \u001b[0;34m=\u001b[0m \u001b[0msplitnames\u001b[0m\u001b[0;34m[\u001b[0m\u001b[0;34m:\u001b[0m\u001b[0;34m-\u001b[0m\u001b[0;36m1\u001b[0m\u001b[0;34m]\u001b[0m\u001b[0;34m\u001b[0m\u001b[0;34m\u001b[0m\u001b[0m\n",
      "\u001b[0;31mAttributeError\u001b[0m: 'list' object has no attribute 'split'"
     ]
    }
   ],
   "source": [
    "names = [\n",
    "    \"Ann Marie Taylor\",\n",
    "    \"John Samuel Adams\",\n",
    "    \"Adam Jones\",\n",
    "    \"Yue Cheng\",\n",
    "    \"Beth Jones-Young\",\n",
    "    \"Qian Chen-Mitchell\",\n",
    "    \"Aditya Santosh Kumar\",\n",
    "    \"James Ankrah\",\n",
    "    \"Mostafa Ahmadi\"\n",
    "]\n",
    "\n",
    "# create a loop that processes all names in the list one by one\n",
    "# It should work for a list of any size and process all names in the list\n",
    "counter = 0\n",
    "while counter in range(0,len(names),1):\n",
    "    # retrieve the name from the list that will be processed in the current iteration of the loop using an appropriate index\n",
    "    current_name = names[0::1]\n",
    "    # split the name into a list of individual parts (first, middle, last names)\n",
    "    ## I would try to go through each name and have them split at the spaces in between the names\n",
    "    splitnames = current_name.split(\" \")\n",
    "    # extract the last name from the splitnames list (using an appropriate index)\n",
    "    lname = splitnames[:-1]\n",
    "    print(lname)\n",
    "    counter = counter + 1"
   ]
  },
  {
   "cell_type": "markdown",
   "id": "6fee5454-f678-43bf-a307-c057abe61b9d",
   "metadata": {
    "tags": []
   },
   "source": [
    "<HR/>\n",
    "\n",
    "### Question 3 (95 points)"
   ]
  },
  {
   "cell_type": "markdown",
   "id": "7505a12a-38eb-4f1e-af32-66dbe64d51a1",
   "metadata": {
    "tags": []
   },
   "source": [
    "**Task:** Write a program that computes a student’s GPA on a 4 point scale by asking the student for the number of credits and the letter grade for each of the courses taken by the student. \n",
    "\n",
    "Each grade on a 4 point scale is multiplied by the number of credits for that class. The sum of all the credit-grade products is divided by the total number of credits earned. Assume the 4\n",
    "point scale assigns values of 4.0 for an A, 3.0 for a B, 2.0 for a C, 1.0 for a D, and 0 for an F. \n",
    "\n",
    "Ask the user to enter their credit grade pairs using the following format\n",
    "until they enter 0 for the number of credits.\n",
    "\n",
    "```\n",
    "This program computes your GPA.\n",
    "Please enter your completed courses.\n",
    "Terminate your entry by entering 0 credits.\n",
    "Credits? 4\n",
    "Grade? A\n",
    "Credits? 3\n",
    "Grade? B\n",
    "Credits? 4\n",
    "Grade? B\n",
    "Credits? 0\n",
    "Your GPA is 3.36\n",
    "```\n",
    "\n",
    "The calculation for the above scenario is ((4\\*4) + (3\\*3) + (4\\*3))/ (4+3+4) = 3.36.\n",
    "\n",
    "<br><br>\r",
    "\r",
    "Here is what the calculation would look like using the variables provided in the code block:\r",
    "\r",
    "<b>gpa = {total grade points credits product} / {total credits}</b>\r",
    "\r",
    "<b>{total grade points credits product}  = {sum of grade points credits product for each course}</b>\r",
    "\r",
    "<b>{grade points credits product of a course} = {credits for that course} * {grade points based on letter grade for that course}</b>\r",
    "\r",
    "<br><br>\n",
    "\n",
    "**Instructions:** The following code block contains partially completed code for this task. Use the comments to complete the code and execute it successfully. Test your code starting with the example provided above and by creating your own test scenarios. "
   ]
  },
  {
   "cell_type": "code",
   "execution_count": 68,
   "id": "ef4b2c13-6f82-474e-bdd4-93330a36e7b5",
   "metadata": {},
   "outputs": [
    {
     "name": "stdout",
     "output_type": "stream",
     "text": [
      "This program computes your GPA.\n",
      "Please enter your completed courses.\n",
      "Terminate your entry by entering 0 credits.\n"
     ]
    },
    {
     "name": "stdin",
     "output_type": "stream",
     "text": [
      "Please enter credit. 4\n",
      "Please enter letter grade. A\n",
      "Please enter credit. 0\n"
     ]
    },
    {
     "name": "stdout",
     "output_type": "stream",
     "text": [
      "4.0\n"
     ]
    }
   ],
   "source": [
    "# initialize the sum of credits and the sum of product of grade and credits\n",
    "\n",
    "total_credits = 0\n",
    "total_grade_points_credits_product = 0\n",
    "\n",
    "# Display messages to user at the start of the program\n",
    "print(\"This program computes your GPA.\")\n",
    "print(\"Please enter your completed courses.\")\n",
    "print(\"Terminate your entry by entering 0 credits.\")\n",
    "\n",
    "# accept user input in an infinite loop; break out of the loop when student enters 0 credits \n",
    "while True: \n",
    "    credits = int(input(\"Please enter credit.\")) # ask for credits input with appropriate prompt\n",
    "    if credits > 0:# if valid course credits value \n",
    "        # add credits to total_credits\n",
    "        total_credits = total_credits + credits \n",
    "        # ask student for course grade with appropriate prompt\n",
    "        grade = str(input(\"Please enter letter grade.\"))\n",
    "        # determine grade points for the letter grade provided in the variable 'grade' using if...elif..else statements. \n",
    "        #Store grade points in the variable grade_points.\n",
    "        if grade == \"A\":\n",
    "            grade_points = 4.0\n",
    "        elif grade == \"B\":\n",
    "            grade_points =3.0\n",
    "        elif grade == \"C\":\n",
    "            grade_points = 2.0\n",
    "        elif grade == \"D\":\n",
    "            grade_points = 1.0\n",
    "        else:\n",
    "            grade_points = 0.0\n",
    "        # calculate the product of the variables 'grade_points' and 'credits' and assign to the variable 'grade_points_credits_product'\n",
    "        grade_points_credits_product = credits * grade_points\n",
    "        # add the above 'grade_points_credits_product' to the variable 'total_grade_points_credits_product'\n",
    "        total_grade_points_credits_product = total_grade_points_credits_product + grade_points_credits_product\n",
    "    else:\n",
    "        break\n",
    "        print(\"You have terminated your entry by entering 0 credits.\")\n",
    "        # break out of the loop because student entered 0 credits\n",
    "        \n",
    "# calculate GPA using 'total_grade_points_credits_product' and 'total_credits' \n",
    "gpa = total_grade_points_credits_product / total_credits\n",
    "\n",
    "# print gpa rounded to two decimal places\n",
    "print(round((gpa),3))"
   ]
  },
  {
   "cell_type": "markdown",
   "id": "01746c17-ed68-4e1a-8620-28f35aa29005",
   "metadata": {},
   "source": [
    "<HR/>\n",
    "\n",
    "## Academic Integritry Declaration and Agreement (15 points)\n",
    "\n",
    "#### *I certify that I have not received or provided unauthorized help during this exam.*\n",
    "\n",
    "#### Full Name: Jane Yun \n",
    "\n"
   ]
  }
 ],
 "metadata": {
  "kernelspec": {
   "display_name": "Python 3 (ipykernel)",
   "language": "python",
   "name": "python3"
  },
  "language_info": {
   "codemirror_mode": {
    "name": "ipython",
    "version": 3
   },
   "file_extension": ".py",
   "mimetype": "text/x-python",
   "name": "python",
   "nbconvert_exporter": "python",
   "pygments_lexer": "ipython3",
   "version": "3.7.10"
  }
 },
 "nbformat": 4,
 "nbformat_minor": 5
}
