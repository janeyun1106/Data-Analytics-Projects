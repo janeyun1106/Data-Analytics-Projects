{
 "cells": [
  {
   "cell_type": "markdown",
   "id": "71e8c219-bd01-4254-9f66-f294a544bc6a",
   "metadata": {
    "tags": []
   },
   "source": [
    "# EXAM 2"
   ]
  },
  {
   "cell_type": "markdown",
   "id": "b5166b40-45d6-4296-974e-f9bf3221d1e9",
   "metadata": {},
   "source": [
    "<HR/>\n",
    "\n",
    "## Instructions - Please read carefully before starting\n",
    "\n",
    "\n",
    "1. **Submitting your completed work:** Please complete the exam in this notebook itself and upload a copy to the Canvas dropbox. The dropbox will automatically close at the scheduled exam end time so you must upload the completed notebook before the dropbox closes. Once you have uploaded the file, please download it from Canvas and confirm that it uploaded correctly. If you have issues, please do ALL of the following: (1) alert the proctor for help, (2) email a copy to me via Canvas and (3) leave your notebook on the notebook server (don't open, edit or change it to keep the original timestamp).\n",
    "   \n",
    "<BR/>\n",
    "\n",
    "2. **Resources that you can use:** The exam is open notes, open book, open reference (Python Documentation and the two textbooks used as references) and closed resources. This means that you can refer to any material that I have provided, any notebooks and notes that you created, the [pandas reference](https://pandas.pydata.org/), the [matplotlib reference](https://matplotlib.org/), the [pandas for Everyone](https://learning.oreilly.com/library/view/pandas-for-everyone/9780134547046/?sso_link=yes&sso_link_from=pennsylvania-state-university) textbook, the [Python for Data Analysis](https://ebookcentral.proquest.com/lib/pensu/detail.action?docID=5061179) textbook, the [python reference site](https://docs.python.org/3/), the [python tutorial](https://docs.python.org/3.9/tutorial/index.html), the [Think Python](https://go.oreilly.com/pennsylvania-state-university/library/view/-/9781491939406/?ar) and [Python Crash Course](https://go.oreilly.com/pennsylvania-state-university/library/view/-/9781492071266/?ar) textbooks during the exam. However, you may not access any other websites or receive help from other sources or individuals.\n",
    "\n",
    "<BR/>\n",
    "\n",
    "3. **How to answer questions:** If a question contains a blank code cell, write your own code to answer the question. If a question includes a code cell with some code in it, you need to add and/or modify lines of code to achieve the desired result (in some cases you will see blanks ____ which you should replace with appropriate code). Updating the code cells to follow the intended code/logic makes your answer eligible for a max of 100% of the points for the question. If you get stuck however, you can write your own code instead. That will make your answer eligible for a max of 90% of the point value for the question. Get as far as you can to retrieve/ calculate/ display quantitative information using code. Then, interpret the results and provide a final answer as needed. Be sure to explain how you arrived at the conclusion from the results of the code. \n",
    "\n",
    "<BR/>\n",
    "\n",
    "4. **Copying the provided code cells and indicating which code cell should be graded:** Create a copy of the provided code cell before you start your work on a question. This way you have a copy of the original code cell to refer to. When you are done answering a question, make sure that your final answer is the first code cell below the question. ONLY THE FIRST code cell below the question will be graded (we won't choose the best of several cells) and it is your responsibility to ensure that the work you want graded is in the first code cell below a question. \n",
    "\n",
    "<BR/>\n",
    "\n",
    "5. **Saving your work and troubleshooting issues with running code:** Save your work frequently by clicking on the save icon on the top left of the notebook toolbar. If the server crashes you won't be able to retrieve your work, unless you saved it. If your code cell doesn't run or is stuck at the \"*\" symbol, try the following:\n",
    "    - Close all files\n",
    "    - Log out (File > Log Out)\n",
    "    - Log in and reopen the file you were working on. Wait for the bottom status bar to show \"Python (ipykernel) | Idle\". When it does, run the code cell again.\n",
    "    - If you don't see the \"Idle\" status or your code does not still run, restart your server using File > Hub Control Panel. Make sure you close the older tab after restarting the server.\n",
    "    - If you continue to have trouble with running the code, please raise your hand to get the proctor's help.\n",
    "\n",
    "<BR/>     \n",
    "\n",
    "6. **Run all your code before submitting:** Please rerun all cells in your notebook in the correct sequence before submitting your work. This will help you identify any errors that may have been introduced while editing your code.</font>\n",
    "\n",
    "<BR/>\n",
    "\n",
    "7. **Identifying information and Honor code statement:** Please type your full name in the space provided below. Typing your name also indicates that you understand the academic integrity requirements of the exam and are certifying that you have not violated them. Violation of the academic integrity requirements will result in formal proceedings and failure in the exam and possibly the course."
   ]
  },
  {
   "cell_type": "markdown",
   "id": "025bdc71-4ce7-4294-a637-3d158d353ecb",
   "metadata": {},
   "source": [
    "<HR/>\n",
    "\n",
    "\n",
    "## Honor Code and Statement\n",
    "\n",
    "As you take this exam, please remember the Smeal community's commitment to the honor code:\n",
    "\n",
    "\"We, the Smeal College of Business community, aspire to the highest ethical standards and will hold each other accountable to them. We will not engage in any action that is improper or that creates the appearance of impropriety in our academic lives, and we intend to hold to this standard in our future careers.\"\n",
    "\n",
    "<BR/>\n",
    "<BR/>\n",
    "\n",
    "Don't stress too much and turn in your honest and best work, and remember,\n",
    "\n",
    "Integrity is doing the right thing, even when no one is watching. - C.S. Lewis\n",
    "\n",
    "**Go to the bottom of this notebook. Read the academic intergrity declaration and add your name to acknowledge your agreement and to *receive 12 points* on the exam. DO THIS NOW so that you don't lose the points if you are rushing to submit the exam.**"
   ]
  },
  {
   "cell_type": "markdown",
   "id": "4b0995b8-7f9b-46b8-9724-0f694606db9a",
   "metadata": {
    "tags": []
   },
   "source": [
    "<HR/> \n",
    "\n",
    "### Question 1 (180 points) - Each part is worth 36 points.\n",
    "\n",
    "The file concessions.csv contains information on concession sales during a basketball game. Each row represents one sales transaction. The data provided for each transaction includes the name of the item, the category that the item belongs to, the sales price (per unit), the profit margin (the number is a percentage i.e., 50 = 50%) and the calories in the item. "
   ]
  },
  {
   "cell_type": "markdown",
   "id": "17ae87ec-6e90-408e-80de-81a325452bb7",
   "metadata": {
    "tags": []
   },
   "source": [
    "#### A. Read the data into a data frame called concessions. How many transactions are included in the dataset? Display the first 10 rows."
   ]
  },
  {
   "cell_type": "code",
   "execution_count": 4,
   "id": "860242f4-2fa7-4c7d-b946-89d2db861323",
   "metadata": {
    "tags": []
   },
   "outputs": [],
   "source": [
    "# read the data into a DataFrame called concessions\n",
    "import pandas as pd\n",
    "concessions = pd.read_csv(\"../Exam 2/concessions.csv\")"
   ]
  },
  {
   "cell_type": "code",
   "execution_count": 21,
   "id": "eb6cd5b1-888b-46b8-a817-48010193a768",
   "metadata": {
    "tags": []
   },
   "outputs": [
    {
     "name": "stdout",
     "output_type": "stream",
     "text": [
      "There are 199 transactions in this dataset\n"
     ]
    }
   ],
   "source": [
    "# display the number of transactions included in the dataset.\n",
    "concessions.shape\n",
    "\n",
    "print(\"There are \"+ str(concessions.shape[0]) + \" transactions in this dataset\")"
   ]
  },
  {
   "cell_type": "code",
   "execution_count": 20,
   "id": "1a00fc6c-18d3-4286-b1fb-309f4df8f783",
   "metadata": {
    "tags": []
   },
   "outputs": [
    {
     "data": {
      "text/html": [
       "<div>\n",
       "<style scoped>\n",
       "    .dataframe tbody tr th:only-of-type {\n",
       "        vertical-align: middle;\n",
       "    }\n",
       "\n",
       "    .dataframe tbody tr th {\n",
       "        vertical-align: top;\n",
       "    }\n",
       "\n",
       "    .dataframe thead th {\n",
       "        text-align: right;\n",
       "    }\n",
       "</style>\n",
       "<table border=\"1\" class=\"dataframe\">\n",
       "  <thead>\n",
       "    <tr style=\"text-align: right;\">\n",
       "      <th></th>\n",
       "      <th>Item</th>\n",
       "      <th>Category</th>\n",
       "      <th>Price</th>\n",
       "      <th>Margin</th>\n",
       "      <th>Calories</th>\n",
       "    </tr>\n",
       "  </thead>\n",
       "  <tbody>\n",
       "    <tr>\n",
       "      <th>0</th>\n",
       "      <td>Beer</td>\n",
       "      <td>Beverages</td>\n",
       "      <td>4.0</td>\n",
       "      <td>50.0</td>\n",
       "      <td>200</td>\n",
       "    </tr>\n",
       "    <tr>\n",
       "      <th>1</th>\n",
       "      <td>Hamburger</td>\n",
       "      <td>Hot Food</td>\n",
       "      <td>3.0</td>\n",
       "      <td>67.0</td>\n",
       "      <td>320</td>\n",
       "    </tr>\n",
       "    <tr>\n",
       "      <th>2</th>\n",
       "      <td>Popcorn</td>\n",
       "      <td>Hot Food</td>\n",
       "      <td>5.0</td>\n",
       "      <td>80.0</td>\n",
       "      <td>500</td>\n",
       "    </tr>\n",
       "    <tr>\n",
       "      <th>3</th>\n",
       "      <td>Pizza</td>\n",
       "      <td>Hot Food</td>\n",
       "      <td>2.0</td>\n",
       "      <td>25.0</td>\n",
       "      <td>480</td>\n",
       "    </tr>\n",
       "    <tr>\n",
       "      <th>4</th>\n",
       "      <td>Bottled Water</td>\n",
       "      <td>Beverages</td>\n",
       "      <td>3.0</td>\n",
       "      <td>83.0</td>\n",
       "      <td>0</td>\n",
       "    </tr>\n",
       "    <tr>\n",
       "      <th>5</th>\n",
       "      <td>Hot Dog</td>\n",
       "      <td>Hot Food</td>\n",
       "      <td>1.5</td>\n",
       "      <td>67.0</td>\n",
       "      <td>265</td>\n",
       "    </tr>\n",
       "    <tr>\n",
       "      <th>6</th>\n",
       "      <td>Chocolate Dipped Cone</td>\n",
       "      <td>Frozen Treats</td>\n",
       "      <td>3.0</td>\n",
       "      <td>50.0</td>\n",
       "      <td>300</td>\n",
       "    </tr>\n",
       "    <tr>\n",
       "      <th>7</th>\n",
       "      <td>Soda</td>\n",
       "      <td>Beverages</td>\n",
       "      <td>2.5</td>\n",
       "      <td>80.0</td>\n",
       "      <td>120</td>\n",
       "    </tr>\n",
       "    <tr>\n",
       "      <th>8</th>\n",
       "      <td>Chocolate Bar</td>\n",
       "      <td>Candy</td>\n",
       "      <td>2.0</td>\n",
       "      <td>75.0</td>\n",
       "      <td>255</td>\n",
       "    </tr>\n",
       "    <tr>\n",
       "      <th>9</th>\n",
       "      <td>Hamburger</td>\n",
       "      <td>Hot Food</td>\n",
       "      <td>3.0</td>\n",
       "      <td>67.0</td>\n",
       "      <td>320</td>\n",
       "    </tr>\n",
       "  </tbody>\n",
       "</table>\n",
       "</div>"
      ],
      "text/plain": [
       "                    Item       Category  Price  Margin  Calories\n",
       "0                   Beer      Beverages    4.0    50.0       200\n",
       "1              Hamburger       Hot Food    3.0    67.0       320\n",
       "2                Popcorn       Hot Food    5.0    80.0       500\n",
       "3                  Pizza       Hot Food    2.0    25.0       480\n",
       "4          Bottled Water      Beverages    3.0    83.0         0\n",
       "5                Hot Dog       Hot Food    1.5    67.0       265\n",
       "6  Chocolate Dipped Cone  Frozen Treats    3.0    50.0       300\n",
       "7                   Soda      Beverages    2.5    80.0       120\n",
       "8          Chocolate Bar          Candy    2.0    75.0       255\n",
       "9              Hamburger       Hot Food    3.0    67.0       320"
      ]
     },
     "execution_count": 20,
     "metadata": {},
     "output_type": "execute_result"
    }
   ],
   "source": [
    "# display the first 10 rows\n",
    "concessions.head(10)"
   ]
  },
  {
   "cell_type": "markdown",
   "id": "c0d5138d-04e7-4c3c-b9a8-aa8e4b175039",
   "metadata": {
    "tags": []
   },
   "source": [
    "#### B. Add a new column called `Profit` to the concessions data frame which records the profit from each sale. For example, if an item sells for \\$4.00 and the margin is 75%, then the profit is 4.00 x 75/100 = 3.00. Display the first 5 rows of data to show that the profit was correctly calculated."
   ]
  },
  {
   "cell_type": "code",
   "execution_count": 26,
   "id": "af1d8537-0a7a-43ec-af26-dd820a11a78c",
   "metadata": {
    "tags": []
   },
   "outputs": [],
   "source": [
    "# add a column named Profit to the DataFrame created above and assign the value Price * Margin /100 to the column\n",
    "concessions['Profit'] = concessions['Price'] * (concessions['Margin'] / 100)"
   ]
  },
  {
   "cell_type": "code",
   "execution_count": 27,
   "id": "779e8a61-bc50-47f7-ae9c-6746bfc4f774",
   "metadata": {
    "tags": []
   },
   "outputs": [
    {
     "data": {
      "text/html": [
       "<div>\n",
       "<style scoped>\n",
       "    .dataframe tbody tr th:only-of-type {\n",
       "        vertical-align: middle;\n",
       "    }\n",
       "\n",
       "    .dataframe tbody tr th {\n",
       "        vertical-align: top;\n",
       "    }\n",
       "\n",
       "    .dataframe thead th {\n",
       "        text-align: right;\n",
       "    }\n",
       "</style>\n",
       "<table border=\"1\" class=\"dataframe\">\n",
       "  <thead>\n",
       "    <tr style=\"text-align: right;\">\n",
       "      <th></th>\n",
       "      <th>Item</th>\n",
       "      <th>Category</th>\n",
       "      <th>Price</th>\n",
       "      <th>Margin</th>\n",
       "      <th>Calories</th>\n",
       "      <th>Profit</th>\n",
       "    </tr>\n",
       "  </thead>\n",
       "  <tbody>\n",
       "    <tr>\n",
       "      <th>0</th>\n",
       "      <td>Beer</td>\n",
       "      <td>Beverages</td>\n",
       "      <td>4.0</td>\n",
       "      <td>50.0</td>\n",
       "      <td>200</td>\n",
       "      <td>2.00</td>\n",
       "    </tr>\n",
       "    <tr>\n",
       "      <th>1</th>\n",
       "      <td>Hamburger</td>\n",
       "      <td>Hot Food</td>\n",
       "      <td>3.0</td>\n",
       "      <td>67.0</td>\n",
       "      <td>320</td>\n",
       "      <td>2.01</td>\n",
       "    </tr>\n",
       "    <tr>\n",
       "      <th>2</th>\n",
       "      <td>Popcorn</td>\n",
       "      <td>Hot Food</td>\n",
       "      <td>5.0</td>\n",
       "      <td>80.0</td>\n",
       "      <td>500</td>\n",
       "      <td>4.00</td>\n",
       "    </tr>\n",
       "    <tr>\n",
       "      <th>3</th>\n",
       "      <td>Pizza</td>\n",
       "      <td>Hot Food</td>\n",
       "      <td>2.0</td>\n",
       "      <td>25.0</td>\n",
       "      <td>480</td>\n",
       "      <td>0.50</td>\n",
       "    </tr>\n",
       "    <tr>\n",
       "      <th>4</th>\n",
       "      <td>Bottled Water</td>\n",
       "      <td>Beverages</td>\n",
       "      <td>3.0</td>\n",
       "      <td>83.0</td>\n",
       "      <td>0</td>\n",
       "      <td>2.49</td>\n",
       "    </tr>\n",
       "  </tbody>\n",
       "</table>\n",
       "</div>"
      ],
      "text/plain": [
       "            Item   Category  Price  Margin  Calories  Profit\n",
       "0           Beer  Beverages    4.0    50.0       200    2.00\n",
       "1      Hamburger   Hot Food    3.0    67.0       320    2.01\n",
       "2        Popcorn   Hot Food    5.0    80.0       500    4.00\n",
       "3          Pizza   Hot Food    2.0    25.0       480    0.50\n",
       "4  Bottled Water  Beverages    3.0    83.0         0    2.49"
      ]
     },
     "execution_count": 27,
     "metadata": {},
     "output_type": "execute_result"
    }
   ],
   "source": [
    "# display first 5 rows of the concessions data frame\n",
    "concessions.head()"
   ]
  },
  {
   "cell_type": "markdown",
   "id": "226a0f03-738a-4046-86c2-0a641fb1b2da",
   "metadata": {
    "tags": []
   },
   "source": [
    "#### C. Calculate the total revenue from the sales of each item. Display a table with the name of each item and its sales revenue (sorted by sales revenue). Then display the data from the table in a pareto chart (a horizontal bar chart that shows items in descending order of revenue).  "
   ]
  },
  {
   "cell_type": "code",
   "execution_count": 34,
   "id": "bfba58d0-c8b5-4cb4-8c87-fccf6cc8ce01",
   "metadata": {
    "tags": []
   },
   "outputs": [
    {
     "data": {
      "text/html": [
       "<div>\n",
       "<style scoped>\n",
       "    .dataframe tbody tr th:only-of-type {\n",
       "        vertical-align: middle;\n",
       "    }\n",
       "\n",
       "    .dataframe tbody tr th {\n",
       "        vertical-align: top;\n",
       "    }\n",
       "\n",
       "    .dataframe thead th {\n",
       "        text-align: right;\n",
       "    }\n",
       "</style>\n",
       "<table border=\"1\" class=\"dataframe\">\n",
       "  <thead>\n",
       "    <tr style=\"text-align: right;\">\n",
       "      <th></th>\n",
       "      <th>Price</th>\n",
       "    </tr>\n",
       "    <tr>\n",
       "      <th>Item</th>\n",
       "      <th></th>\n",
       "    </tr>\n",
       "  </thead>\n",
       "  <tbody>\n",
       "    <tr>\n",
       "      <th>Beer</th>\n",
       "      <td>80.0</td>\n",
       "    </tr>\n",
       "    <tr>\n",
       "      <th>Bottled Water</th>\n",
       "      <td>39.0</td>\n",
       "    </tr>\n",
       "    <tr>\n",
       "      <th>Chocolate Bar</th>\n",
       "      <td>26.0</td>\n",
       "    </tr>\n",
       "    <tr>\n",
       "      <th>Chocolate Dipped Cone</th>\n",
       "      <td>33.0</td>\n",
       "    </tr>\n",
       "    <tr>\n",
       "      <th>Gummy Bears</th>\n",
       "      <td>28.0</td>\n",
       "    </tr>\n",
       "    <tr>\n",
       "      <th>Hamburger</th>\n",
       "      <td>48.0</td>\n",
       "    </tr>\n",
       "    <tr>\n",
       "      <th>Hot Dog</th>\n",
       "      <td>22.5</td>\n",
       "    </tr>\n",
       "    <tr>\n",
       "      <th>Ice Cream Sandwich</th>\n",
       "      <td>30.0</td>\n",
       "    </tr>\n",
       "    <tr>\n",
       "      <th>Licorice Rope</th>\n",
       "      <td>26.0</td>\n",
       "    </tr>\n",
       "    <tr>\n",
       "      <th>Nachos</th>\n",
       "      <td>45.0</td>\n",
       "    </tr>\n",
       "    <tr>\n",
       "      <th>Pizza</th>\n",
       "      <td>34.0</td>\n",
       "    </tr>\n",
       "    <tr>\n",
       "      <th>Popcorn</th>\n",
       "      <td>80.0</td>\n",
       "    </tr>\n",
       "    <tr>\n",
       "      <th>Popsicle</th>\n",
       "      <td>39.0</td>\n",
       "    </tr>\n",
       "    <tr>\n",
       "      <th>Soda</th>\n",
       "      <td>32.5</td>\n",
       "    </tr>\n",
       "  </tbody>\n",
       "</table>\n",
       "</div>"
      ],
      "text/plain": [
       "                       Price\n",
       "Item                        \n",
       "Beer                    80.0\n",
       "Bottled Water           39.0\n",
       "Chocolate Bar           26.0\n",
       "Chocolate Dipped Cone   33.0\n",
       "Gummy Bears             28.0\n",
       "Hamburger               48.0\n",
       "Hot Dog                 22.5\n",
       "Ice Cream Sandwich      30.0\n",
       "Licorice Rope           26.0\n",
       "Nachos                  45.0\n",
       "Pizza                   34.0\n",
       "Popcorn                 80.0\n",
       "Popsicle                39.0\n",
       "Soda                    32.5"
      ]
     },
     "execution_count": 34,
     "metadata": {},
     "output_type": "execute_result"
    }
   ],
   "source": [
    "# create and display a summary table that has one row for each item and shows the total revenue (sum of prices) for each item.\n",
    "total_revenue_per_item = concessions.groupby('Item')[['Price']].sum()\n",
    "total_revenue_per_item"
   ]
  },
  {
   "cell_type": "code",
   "execution_count": 35,
   "id": "b0d689be-7e9a-46a4-829d-d151facf8239",
   "metadata": {
    "tags": []
   },
   "outputs": [
    {
     "data": {
      "text/html": [
       "<div>\n",
       "<style scoped>\n",
       "    .dataframe tbody tr th:only-of-type {\n",
       "        vertical-align: middle;\n",
       "    }\n",
       "\n",
       "    .dataframe tbody tr th {\n",
       "        vertical-align: top;\n",
       "    }\n",
       "\n",
       "    .dataframe thead th {\n",
       "        text-align: right;\n",
       "    }\n",
       "</style>\n",
       "<table border=\"1\" class=\"dataframe\">\n",
       "  <thead>\n",
       "    <tr style=\"text-align: right;\">\n",
       "      <th></th>\n",
       "      <th>Price</th>\n",
       "    </tr>\n",
       "    <tr>\n",
       "      <th>Item</th>\n",
       "      <th></th>\n",
       "    </tr>\n",
       "  </thead>\n",
       "  <tbody>\n",
       "    <tr>\n",
       "      <th>Beer</th>\n",
       "      <td>80.0</td>\n",
       "    </tr>\n",
       "    <tr>\n",
       "      <th>Popcorn</th>\n",
       "      <td>80.0</td>\n",
       "    </tr>\n",
       "    <tr>\n",
       "      <th>Hamburger</th>\n",
       "      <td>48.0</td>\n",
       "    </tr>\n",
       "    <tr>\n",
       "      <th>Nachos</th>\n",
       "      <td>45.0</td>\n",
       "    </tr>\n",
       "    <tr>\n",
       "      <th>Bottled Water</th>\n",
       "      <td>39.0</td>\n",
       "    </tr>\n",
       "    <tr>\n",
       "      <th>Popsicle</th>\n",
       "      <td>39.0</td>\n",
       "    </tr>\n",
       "    <tr>\n",
       "      <th>Pizza</th>\n",
       "      <td>34.0</td>\n",
       "    </tr>\n",
       "    <tr>\n",
       "      <th>Chocolate Dipped Cone</th>\n",
       "      <td>33.0</td>\n",
       "    </tr>\n",
       "    <tr>\n",
       "      <th>Soda</th>\n",
       "      <td>32.5</td>\n",
       "    </tr>\n",
       "    <tr>\n",
       "      <th>Ice Cream Sandwich</th>\n",
       "      <td>30.0</td>\n",
       "    </tr>\n",
       "    <tr>\n",
       "      <th>Gummy Bears</th>\n",
       "      <td>28.0</td>\n",
       "    </tr>\n",
       "    <tr>\n",
       "      <th>Chocolate Bar</th>\n",
       "      <td>26.0</td>\n",
       "    </tr>\n",
       "    <tr>\n",
       "      <th>Licorice Rope</th>\n",
       "      <td>26.0</td>\n",
       "    </tr>\n",
       "    <tr>\n",
       "      <th>Hot Dog</th>\n",
       "      <td>22.5</td>\n",
       "    </tr>\n",
       "  </tbody>\n",
       "</table>\n",
       "</div>"
      ],
      "text/plain": [
       "                       Price\n",
       "Item                        \n",
       "Beer                    80.0\n",
       "Popcorn                 80.0\n",
       "Hamburger               48.0\n",
       "Nachos                  45.0\n",
       "Bottled Water           39.0\n",
       "Popsicle                39.0\n",
       "Pizza                   34.0\n",
       "Chocolate Dipped Cone   33.0\n",
       "Soda                    32.5\n",
       "Ice Cream Sandwich      30.0\n",
       "Gummy Bears             28.0\n",
       "Chocolate Bar           26.0\n",
       "Licorice Rope           26.0\n",
       "Hot Dog                 22.5"
      ]
     },
     "execution_count": 35,
     "metadata": {},
     "output_type": "execute_result"
    }
   ],
   "source": [
    "# sort the data in ascending or descending order of the total revenue (you need to figure out which order is needed here for the plot to display correctly). Display the sorted data.\n",
    "total_revenue_per_item = concessions.groupby('Item')[['Price']].sum().sort_values(by = 'Price', ascending = False)\n",
    "total_revenue_per_item"
   ]
  },
  {
   "cell_type": "code",
   "execution_count": 38,
   "id": "f9d73311-95fc-45b8-b77b-06e9699019d9",
   "metadata": {
    "tags": []
   },
   "outputs": [
    {
     "data": {
      "image/png": "[encoded data removed]",
      "text/plain": [
       "<Figure size 432x288 with 1 Axes>"
      ]
     },
     "metadata": {
      "needs_background": "light"
     },
     "output_type": "display_data"
    }
   ],
   "source": [
    "# plot the data in a horizontal bar chart.\n",
    "total_revenue_per_item.plot(title = 'Total Revenue per Item', kind = 'barh', rot = 45, ylabel = 'Price');"
   ]
  },
  {
   "cell_type": "markdown",
   "id": "92056912-ff32-4589-ac03-1cb7889a00da",
   "metadata": {
    "tags": []
   },
   "source": [
    "#### D. Each item belongs to a category. Create a summary table that shows each category in the data and the number of distinct items (not the number of sales transactions; it will be a value between 1 and 10) in that category, the average revenue and the total profit of the items in that category.\n"
   ]
  },
  {
   "cell_type": "code",
   "execution_count": 67,
   "id": "eed8c65d-1425-4ca9-8f40-9fd00122175c",
   "metadata": {
    "tags": []
   },
   "outputs": [
    {
     "data": {
      "text/html": [
       "<div>\n",
       "<style scoped>\n",
       "    .dataframe tbody tr th:only-of-type {\n",
       "        vertical-align: middle;\n",
       "    }\n",
       "\n",
       "    .dataframe tbody tr th {\n",
       "        vertical-align: top;\n",
       "    }\n",
       "\n",
       "    .dataframe thead th {\n",
       "        text-align: right;\n",
       "    }\n",
       "</style>\n",
       "<table border=\"1\" class=\"dataframe\">\n",
       "  <thead>\n",
       "    <tr style=\"text-align: right;\">\n",
       "      <th></th>\n",
       "      <th>Item</th>\n",
       "      <th>Price</th>\n",
       "      <th>Profit</th>\n",
       "    </tr>\n",
       "    <tr>\n",
       "      <th>Category</th>\n",
       "      <th></th>\n",
       "      <th></th>\n",
       "      <th></th>\n",
       "    </tr>\n",
       "  </thead>\n",
       "  <tbody>\n",
       "    <tr>\n",
       "      <th>Beverages</th>\n",
       "      <td>3</td>\n",
       "      <td>3</td>\n",
       "      <td>2</td>\n",
       "    </tr>\n",
       "    <tr>\n",
       "      <th>Candy</th>\n",
       "      <td>3</td>\n",
       "      <td>1</td>\n",
       "      <td>2</td>\n",
       "    </tr>\n",
       "    <tr>\n",
       "      <th>Frozen Treats</th>\n",
       "      <td>3</td>\n",
       "      <td>1</td>\n",
       "      <td>3</td>\n",
       "    </tr>\n",
       "    <tr>\n",
       "      <th>Hot Food</th>\n",
       "      <td>5</td>\n",
       "      <td>4</td>\n",
       "      <td>5</td>\n",
       "    </tr>\n",
       "  </tbody>\n",
       "</table>\n",
       "</div>"
      ],
      "text/plain": [
       "               Item  Price  Profit\n",
       "Category                          \n",
       "Beverages         3      3       2\n",
       "Candy             3      1       2\n",
       "Frozen Treats     3      1       3\n",
       "Hot Food          5      4       5"
      ]
     },
     "execution_count": 67,
     "metadata": {},
     "output_type": "execute_result"
    }
   ],
   "source": [
    "# create and display a summary table that has one row for each category \n",
    "# and shows the number of items sold (each item should be counted once), average revenue (average of prices of all rows in a category) and the total profit (sum of profit of all rows for a category) for each item.\n",
    "concessions_category = concessions.groupby('Category')[['Item','Price','Profit']].nunique()\n",
    "concessions_category"
   ]
  },
  {
   "cell_type": "markdown",
   "id": "5773ca69-834b-4239-bef6-855dbcc1e18e",
   "metadata": {},
   "source": [
    "#### E. Create a table that shows the calorie count of each item  in the data set (e.g., beer has 200 calories). It should also show the category that an item belongs to (beer belongs to the beverages category). The displayed result should have three columns - Item, Category and Calories (it is okay if the displayed column names are different from what is listed in the question and if columns are in a different order). Each item should appear exactly once in the result."
   ]
  },
  {
   "cell_type": "code",
   "execution_count": 95,
   "id": "cb24ddb5-8340-4a19-bd82-3037a84cd981",
   "metadata": {},
   "outputs": [
    {
     "data": {
      "text/html": [
       "<div>\n",
       "<style scoped>\n",
       "    .dataframe tbody tr th:only-of-type {\n",
       "        vertical-align: middle;\n",
       "    }\n",
       "\n",
       "    .dataframe tbody tr th {\n",
       "        vertical-align: top;\n",
       "    }\n",
       "\n",
       "    .dataframe thead th {\n",
       "        text-align: right;\n",
       "    }\n",
       "</style>\n",
       "<table border=\"1\" class=\"dataframe\">\n",
       "  <thead>\n",
       "    <tr style=\"text-align: right;\">\n",
       "      <th></th>\n",
       "      <th>Calories</th>\n",
       "    </tr>\n",
       "    <tr>\n",
       "      <th>Item</th>\n",
       "      <th></th>\n",
       "    </tr>\n",
       "  </thead>\n",
       "  <tbody>\n",
       "    <tr>\n",
       "      <th>Beer</th>\n",
       "      <td>200.0</td>\n",
       "    </tr>\n",
       "    <tr>\n",
       "      <th>Bottled Water</th>\n",
       "      <td>0.0</td>\n",
       "    </tr>\n",
       "    <tr>\n",
       "      <th>Chocolate Bar</th>\n",
       "      <td>255.0</td>\n",
       "    </tr>\n",
       "    <tr>\n",
       "      <th>Chocolate Dipped Cone</th>\n",
       "      <td>300.0</td>\n",
       "    </tr>\n",
       "    <tr>\n",
       "      <th>Gummy Bears</th>\n",
       "      <td>300.0</td>\n",
       "    </tr>\n",
       "    <tr>\n",
       "      <th>Hamburger</th>\n",
       "      <td>320.0</td>\n",
       "    </tr>\n",
       "    <tr>\n",
       "      <th>Hot Dog</th>\n",
       "      <td>265.0</td>\n",
       "    </tr>\n",
       "    <tr>\n",
       "      <th>Ice Cream Sandwich</th>\n",
       "      <td>240.0</td>\n",
       "    </tr>\n",
       "    <tr>\n",
       "      <th>Licorice Rope</th>\n",
       "      <td>280.0</td>\n",
       "    </tr>\n",
       "    <tr>\n",
       "      <th>Nachos</th>\n",
       "      <td>560.0</td>\n",
       "    </tr>\n",
       "    <tr>\n",
       "      <th>Pizza</th>\n",
       "      <td>480.0</td>\n",
       "    </tr>\n",
       "    <tr>\n",
       "      <th>Popcorn</th>\n",
       "      <td>500.0</td>\n",
       "    </tr>\n",
       "    <tr>\n",
       "      <th>Popsicle</th>\n",
       "      <td>150.0</td>\n",
       "    </tr>\n",
       "    <tr>\n",
       "      <th>Soda</th>\n",
       "      <td>120.0</td>\n",
       "    </tr>\n",
       "  </tbody>\n",
       "</table>\n",
       "</div>"
      ],
      "text/plain": [
       "                       Calories\n",
       "Item                           \n",
       "Beer                      200.0\n",
       "Bottled Water               0.0\n",
       "Chocolate Bar             255.0\n",
       "Chocolate Dipped Cone     300.0\n",
       "Gummy Bears               300.0\n",
       "Hamburger                 320.0\n",
       "Hot Dog                   265.0\n",
       "Ice Cream Sandwich        240.0\n",
       "Licorice Rope             280.0\n",
       "Nachos                    560.0\n",
       "Pizza                     480.0\n",
       "Popcorn                   500.0\n",
       "Popsicle                  150.0\n",
       "Soda                      120.0"
      ]
     },
     "execution_count": 95,
     "metadata": {},
     "output_type": "execute_result"
    }
   ],
   "source": [
    "# create and display a table that has one row for each item and shows the calorie count of the item (e.g., beer has 200 calories) and the category that the item belongs to (beer belongs to the beverages category).\n",
    "concessions_calorie = concessions.groupby('Item')[['Calories','Category']]\n",
    "concessions_calorie"
   ]
  },
  {
   "cell_type": "markdown",
   "id": "6050652d-dd43-4db1-87cc-5bbe75a0b96f",
   "metadata": {
    "tags": []
   },
   "source": [
    "### Question 2 (108 points) - Each part is worth 36 points.\n",
    "\n",
    "The file salesreps.csv contains information on describes the sales representatives of a tech company. Each row represents one sales representative. The data provided for each representative includes the business unit they work in, their age, gender (Female = 1), tenure (years), whether or not they have a college degree, their personality type, the feedback score that they received, and their salary."
   ]
  },
  {
   "cell_type": "markdown",
   "id": "b50c6c12-75a8-4b68-b09f-3d4b97ec76c5",
   "metadata": {},
   "source": [
    "#### A. Read the data from the salesreps.csv file and display the first **10** rows. Are there any missing values in the csv file (the csv file - not the dataframe that you read)? Explain how you determined whether there are any missing values. If you find missing values, ensure that they are represented as `np.NaN`. Assume that the csv file is too large to manually examine and use code to identify whether there are missing values and which symbols/ values represent missing data."
   ]
  },
  {
   "cell_type": "code",
   "execution_count": 96,
   "id": "68719afe-cc7e-4ddd-a42f-f7561ac83752",
   "metadata": {},
   "outputs": [],
   "source": [
    "# read the data into a data frame without adding any options related to missing data\n",
    "import pandas as pd\n",
    "salesreps_data = pd.read_csv(\"../Exam 2/salesreps.csv\")"
   ]
  },
  {
   "cell_type": "code",
   "execution_count": 103,
   "id": "a1cb70db-bff4-4f4e-b6d0-ac4b335ae358",
   "metadata": {},
   "outputs": [
    {
     "data": {
      "text/plain": [
       "True"
      ]
     },
     "execution_count": 103,
     "metadata": {},
     "output_type": "execute_result"
    }
   ],
   "source": [
    "# perform the necessary analysis to figure out (1) whether there are missing values and (2) which values/ symbols may represent missing data.\n",
    "# add as many code cells as you need\n",
    "\n",
    "# See first 20 rows of data to determine missing values and which values/ symbols may represent missing data.\n",
    "salesreps_data.head(20)\n",
    "\n",
    "# Notice that for Female, it is in binary\n",
    "# 0 means Male, 1 means Female\n",
    "import numpy as np\n",
    "Female = np.NaN\n",
    "pd.isnull(Female)"
   ]
  },
  {
   "cell_type": "code",
   "execution_count": 104,
   "id": "cdb8a19c-c843-45e8-84c2-6d1380c7f1c6",
   "metadata": {},
   "outputs": [],
   "source": [
    "# read the data from the csv file again while recognizing missing values as np.NaN\n",
    "import pandas as pd\n",
    "salesreps_data = pd.read_csv(\"../Exam 2/salesreps.csv\")"
   ]
  },
  {
   "cell_type": "code",
   "execution_count": 105,
   "id": "3cd7410e-527c-4628-8393-61968adce28c",
   "metadata": {},
   "outputs": [
    {
     "data": {
      "text/html": [
       "<div>\n",
       "<style scoped>\n",
       "    .dataframe tbody tr th:only-of-type {\n",
       "        vertical-align: middle;\n",
       "    }\n",
       "\n",
       "    .dataframe tbody tr th {\n",
       "        vertical-align: top;\n",
       "    }\n",
       "\n",
       "    .dataframe thead th {\n",
       "        text-align: right;\n",
       "    }\n",
       "</style>\n",
       "<table border=\"1\" class=\"dataframe\">\n",
       "  <thead>\n",
       "    <tr style=\"text-align: right;\">\n",
       "      <th></th>\n",
       "      <th>Sales_Rep</th>\n",
       "      <th>Business</th>\n",
       "      <th>Age</th>\n",
       "      <th>Female</th>\n",
       "      <th>Years</th>\n",
       "      <th>College</th>\n",
       "      <th>Personality</th>\n",
       "      <th>Feedback</th>\n",
       "      <th>Salary</th>\n",
       "    </tr>\n",
       "  </thead>\n",
       "  <tbody>\n",
       "    <tr>\n",
       "      <th>0</th>\n",
       "      <td>1</td>\n",
       "      <td>Hardware</td>\n",
       "      <td>59</td>\n",
       "      <td>1</td>\n",
       "      <td>2</td>\n",
       "      <td>Yes</td>\n",
       "      <td>Diplomat</td>\n",
       "      <td>2.01</td>\n",
       "      <td>70200</td>\n",
       "    </tr>\n",
       "    <tr>\n",
       "      <th>1</th>\n",
       "      <td>2</td>\n",
       "      <td>Hardware</td>\n",
       "      <td>52</td>\n",
       "      <td>0</td>\n",
       "      <td>10</td>\n",
       "      <td>Yes</td>\n",
       "      <td>Diplomat</td>\n",
       "      <td>3.64</td>\n",
       "      <td>133000</td>\n",
       "    </tr>\n",
       "    <tr>\n",
       "      <th>2</th>\n",
       "      <td>3</td>\n",
       "      <td>Software</td>\n",
       "      <td>47</td>\n",
       "      <td>1</td>\n",
       "      <td>1</td>\n",
       "      <td>Yes</td>\n",
       "      <td>Explorer</td>\n",
       "      <td>3.88</td>\n",
       "      <td>52600</td>\n",
       "    </tr>\n",
       "    <tr>\n",
       "      <th>3</th>\n",
       "      <td>4</td>\n",
       "      <td>Hardware</td>\n",
       "      <td>61</td>\n",
       "      <td>0</td>\n",
       "      <td>2</td>\n",
       "      <td>Yes</td>\n",
       "      <td>Diplomat</td>\n",
       "      <td>2.70</td>\n",
       "      <td>96000</td>\n",
       "    </tr>\n",
       "    <tr>\n",
       "      <th>4</th>\n",
       "      <td>5</td>\n",
       "      <td>Software</td>\n",
       "      <td>39</td>\n",
       "      <td>0</td>\n",
       "      <td>1</td>\n",
       "      <td>No</td>\n",
       "      <td>Diplomat</td>\n",
       "      <td>3.44</td>\n",
       "      <td>122000</td>\n",
       "    </tr>\n",
       "    <tr>\n",
       "      <th>5</th>\n",
       "      <td>6</td>\n",
       "      <td>Hardware</td>\n",
       "      <td>28</td>\n",
       "      <td>0</td>\n",
       "      <td>6</td>\n",
       "      <td>Yes</td>\n",
       "      <td>Explorer</td>\n",
       "      <td>2.43</td>\n",
       "      <td>60000</td>\n",
       "    </tr>\n",
       "    <tr>\n",
       "      <th>6</th>\n",
       "      <td>7</td>\n",
       "      <td>Software</td>\n",
       "      <td>25</td>\n",
       "      <td>1</td>\n",
       "      <td>1</td>\n",
       "      <td>Yes</td>\n",
       "      <td>Explorer</td>\n",
       "      <td>3.30</td>\n",
       "      <td>68000</td>\n",
       "    </tr>\n",
       "    <tr>\n",
       "      <th>7</th>\n",
       "      <td>8</td>\n",
       "      <td>Hardware</td>\n",
       "      <td>51</td>\n",
       "      <td>1</td>\n",
       "      <td>10</td>\n",
       "      <td>No</td>\n",
       "      <td>Explorer</td>\n",
       "      <td>2.15</td>\n",
       "      <td>43800</td>\n",
       "    </tr>\n",
       "    <tr>\n",
       "      <th>8</th>\n",
       "      <td>9</td>\n",
       "      <td>Hardware</td>\n",
       "      <td>34</td>\n",
       "      <td>0</td>\n",
       "      <td>4</td>\n",
       "      <td>Yes</td>\n",
       "      <td>Diplomat</td>\n",
       "      <td>2.91</td>\n",
       "      <td>92000</td>\n",
       "    </tr>\n",
       "    <tr>\n",
       "      <th>9</th>\n",
       "      <td>10</td>\n",
       "      <td>Hardware</td>\n",
       "      <td>38</td>\n",
       "      <td>1</td>\n",
       "      <td>1</td>\n",
       "      <td>Yes</td>\n",
       "      <td>Explorer</td>\n",
       "      <td>1.23</td>\n",
       "      <td>73400</td>\n",
       "    </tr>\n",
       "  </tbody>\n",
       "</table>\n",
       "</div>"
      ],
      "text/plain": [
       "   Sales_Rep  Business Age  Female  Years College Personality  Feedback  \\\n",
       "0          1  Hardware  59       1      2     Yes    Diplomat      2.01   \n",
       "1          2  Hardware  52       0     10     Yes    Diplomat      3.64   \n",
       "2          3  Software  47       1      1     Yes    Explorer      3.88   \n",
       "3          4  Hardware  61       0      2     Yes    Diplomat      2.70   \n",
       "4          5  Software  39       0      1      No    Diplomat      3.44   \n",
       "5          6  Hardware  28       0      6     Yes    Explorer      2.43   \n",
       "6          7  Software  25       1      1     Yes    Explorer      3.30   \n",
       "7          8  Hardware  51       1     10      No    Explorer      2.15   \n",
       "8          9  Hardware  34       0      4     Yes    Diplomat      2.91   \n",
       "9         10  Hardware  38       1      1     Yes    Explorer      1.23   \n",
       "\n",
       "   Salary  \n",
       "0   70200  \n",
       "1  133000  \n",
       "2   52600  \n",
       "3   96000  \n",
       "4  122000  \n",
       "5   60000  \n",
       "6   68000  \n",
       "7   43800  \n",
       "8   92000  \n",
       "9   73400  "
      ]
     },
     "execution_count": 105,
     "metadata": {},
     "output_type": "execute_result"
    }
   ],
   "source": [
    "# display the first 10 rows of the newly read DataFrame\n",
    "salesreps_data.head(10)"
   ]
  },
  {
   "cell_type": "markdown",
   "id": "38a95f32-b1eb-498b-bde6-854394ee8cb6",
   "metadata": {},
   "source": [
    "#### B. The company is interested to see if the personality type of a sales representative influence the feedback score they receive. To begin analyzing this, produce a table that shows the average and standard deviation of feedback scores for each personality type. Which personality type has the highest feedback score on average? "
   ]
  },
  {
   "cell_type": "code",
   "execution_count": 123,
   "id": "d11ad792-6b7d-4c97-b18b-cf2b003f71be",
   "metadata": {},
   "outputs": [
    {
     "data": {
      "text/html": [
       "<div>\n",
       "<style scoped>\n",
       "    .dataframe tbody tr th:only-of-type {\n",
       "        vertical-align: middle;\n",
       "    }\n",
       "\n",
       "    .dataframe tbody tr th {\n",
       "        vertical-align: top;\n",
       "    }\n",
       "\n",
       "    .dataframe thead tr th {\n",
       "        text-align: left;\n",
       "    }\n",
       "\n",
       "    .dataframe thead tr:last-of-type th {\n",
       "        text-align: right;\n",
       "    }\n",
       "</style>\n",
       "<table border=\"1\" class=\"dataframe\">\n",
       "  <thead>\n",
       "    <tr>\n",
       "      <th></th>\n",
       "      <th colspan=\"2\" halign=\"left\">Feedback</th>\n",
       "    </tr>\n",
       "    <tr>\n",
       "      <th></th>\n",
       "      <th>mean</th>\n",
       "      <th>std</th>\n",
       "    </tr>\n",
       "    <tr>\n",
       "      <th>Personality</th>\n",
       "      <th></th>\n",
       "      <th></th>\n",
       "    </tr>\n",
       "  </thead>\n",
       "  <tbody>\n",
       "    <tr>\n",
       "      <th>Analyst</th>\n",
       "      <td>2.603571</td>\n",
       "      <td>1.023991</td>\n",
       "    </tr>\n",
       "    <tr>\n",
       "      <th>Diplomat</th>\n",
       "      <td>2.634918</td>\n",
       "      <td>0.783038</td>\n",
       "    </tr>\n",
       "    <tr>\n",
       "      <th>Explorer</th>\n",
       "      <td>2.691772</td>\n",
       "      <td>0.859909</td>\n",
       "    </tr>\n",
       "    <tr>\n",
       "      <th>Sentinel</th>\n",
       "      <td>2.630625</td>\n",
       "      <td>0.873657</td>\n",
       "    </tr>\n",
       "  </tbody>\n",
       "</table>\n",
       "</div>"
      ],
      "text/plain": [
       "             Feedback          \n",
       "                 mean       std\n",
       "Personality                    \n",
       "Analyst      2.603571  1.023991\n",
       "Diplomat     2.634918  0.783038\n",
       "Explorer     2.691772  0.859909\n",
       "Sentinel     2.630625  0.873657"
      ]
     },
     "execution_count": 123,
     "metadata": {},
     "output_type": "execute_result"
    }
   ],
   "source": [
    "# create a table summarizing the average and standard deviation of feedback score for each personality type\n",
    "personality_type = salesreps_data.groupby('Personality')[['Feedback']].aggregate(['mean','std'])\n",
    "personality_type"
   ]
  },
  {
   "cell_type": "code",
   "execution_count": 134,
   "id": "d0e89110-05a5-4d49-8914-88d8069635d9",
   "metadata": {},
   "outputs": [
    {
     "name": "stdout",
     "output_type": "stream",
     "text": [
      "The highest feedback score on average was the Explorer personality type\n"
     ]
    }
   ],
   "source": [
    "# extract the personality type that has the highest feedback score on average\n",
    "personality_type.idxmax().iloc[0]\n",
    "print(\"The highest feedback score on average was the \"+ str(personality_type.idxmax().iloc[0]) + \" personality type\")"
   ]
  },
  {
   "cell_type": "markdown",
   "id": "84a6de28-32e5-4c4d-a7b4-d76cb5a5d929",
   "metadata": {},
   "source": [
    "#### C. You are trying to understand how different demographic factors influence salaries. Specifically, you would like to compare the average salaries of individuals who have worked for the company for 5 to 10 years but differ on whether they have a college degree or not. Create a summary table that provides the average salaries of the two groups (Group 1 - individuals who have worked 5-10 years and have a college degree and Group 2 -  individuals who have worked 5-10 years and *don't* have a college degree). The table should contain two values (average salaries of the two groups).\n",
    "\n",
    "\n"
   ]
  },
  {
   "cell_type": "code",
   "execution_count": 153,
   "id": "7b01b7a1-303a-4a8b-a996-5c3bea3e986c",
   "metadata": {},
   "outputs": [
    {
     "data": {
      "text/plain": [
       "Salary    66171.428571\n",
       "dtype: float64"
      ]
     },
     "execution_count": 153,
     "metadata": {},
     "output_type": "execute_result"
    }
   ],
   "source": [
    "# create the summary table here\n",
    "# Create two tables\n",
    "group1 = salesreps_data[(salesreps_data['Years'] >= 5) & (salesreps_data['Years'] <= 10) & (salesreps_data['College'] == 'Yes')]\n",
    "group2 = salesreps_data[(salesreps_data['Years'] >= 5) & (salesreps_data['Years'] <= 10) & (salesreps_data['College'] == 'No')]\n",
    "\n",
    "# Find the mean of salary for the two tables\n",
    "group1_avg_salary = group1[['Salary']].mean()\n",
    "group2_avg_salary = group2[['Salary']].mean()\n",
    "\n",
    "# Merge the two tables to create the final summary table\n",
    "# (Currently they are series, and cannot use the .concat function, but would use .concat to merge the two dataframes)\n",
    "group1_avg_salary.concat([group2_avg_salary])"
   ]
  },
  {
   "cell_type": "markdown",
   "id": "24bdf8e1-6f91-45e5-be45-c251464b0da5",
   "metadata": {},
   "source": [
    "<HR/>\n",
    "\n",
    "## Academic Integritry Declaration and Agreement (12 points)\n",
    "\n",
    "#### *I certify that I have not received or provided unauthorized help during this exam.*\n",
    "\n",
    "#### Full Name: Jane Yun \n",
    "\n"
   ]
  }
 ],
 "metadata": {
  "kernelspec": {
   "display_name": "Python 3 (ipykernel)",
   "language": "python",
   "name": "python3"
  },
  "language_info": {
   "codemirror_mode": {
    "name": "ipython",
    "version": 3
   },
   "file_extension": ".py",
   "mimetype": "text/x-python",
   "name": "python",
   "nbconvert_exporter": "python",
   "pygments_lexer": "ipython3",
   "version": "3.7.10"
  }
 },
 "nbformat": 4,
 "nbformat_minor": 5
}
